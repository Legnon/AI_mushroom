{
 "cells": [
  {
   "cell_type": "code",
   "execution_count": 131,
   "metadata": {},
   "outputs": [],
   "source": [
    "#-*- coding: utf-8 -*-\n",
    "\n",
    "from sklearn.linear_model import LinearRegression, LogisticRegression\n",
    "from sklearn.cross_validation import cross_val_score\n",
    "from sklearn.neighbors import KNeighborsClassifier\n",
    "from sklearn.ensemble import RandomForestClassifier, ExtraTreesClassifier, AdaBoostClassifier\n",
    "from sklearn.tree import DecisionTreeClassifier\n",
    "\n",
    "import pandas as pd\n",
    "import numpy as np\n",
    "import time"
   ]
  },
  {
   "cell_type": "code",
   "execution_count": 132,
   "metadata": {},
   "outputs": [],
   "source": [
    "from data import Y, X, X_univariate, X_low_variance, X_PCA, X_RFE, X_tree"
   ]
  },
  {
   "cell_type": "code",
   "execution_count": null,
   "metadata": {},
   "outputs": [],
   "source": [
    "def do_learning(algorithm, name):\n",
    "    global nparray\n",
    "    print \"------- {} -------\".format(name)\n",
    "    start_time = time.time()\n",
    "    scores = [name]\n",
    "    for key, value in X_vars.items():\n",
    "        score = cross_val_score(algorithm, value, Y, cv=folding, scoring='mean_squared_error')\n",
    "        print \"mean value of {}: {}\".format(key, np.sqrt(-score.mean()))\n",
    "        scores += [-score.mean()]\n",
    "    print \"time elapsed: {} \".format(time.time() - start_time)\n",
    "    print \"\"\n",
    "    nparray = np.vstack([nparray, scores])"
   ]
  },
  {
   "cell_type": "code",
   "execution_count": 133,
   "metadata": {},
   "outputs": [],
   "source": [
    "X_vars = {\n",
    "    'X': X,\n",
    "    'X_univariate': X_univariate,\n",
    "    'X_low_variance': X_low_variance,\n",
    "    'X_PCA': X_PCA,\n",
    "    'X_RFE': X_RFE, \n",
    "    'X_tree': X_tree\n",
    "}"
   ]
  },
  {
   "cell_type": "code",
   "execution_count": 134,
   "metadata": {},
   "outputs": [],
   "source": [
    "linreg = LinearRegression()\n",
    "logreg = LogisticRegression()\n",
    "knn = KNeighborsClassifier(n_neighbors=1)\n",
    "dectree = DecisionTreeClassifier(max_depth=None, min_samples_split=2, random_state=0)\n",
    "ranforest = RandomForestClassifier(n_estimators=10, max_depth=None, min_samples_split=2, random_state=0)\n",
    "extree = ExtraTreesClassifier(n_estimators=10, max_depth=None, min_samples_split=2, random_state=0)\n",
    "adaboost = AdaBoostClassifier(n_estimators=10)\n",
    "\n",
    "scores = ['']\n",
    "for k, v in X_vars.items():\n",
    "    scores += [k]\n",
    "\n",
    "nparray = np.array([scores])"
   ]
  },
  {
   "cell_type": "code",
   "execution_count": 135,
   "metadata": {},
   "outputs": [
    {
     "name": "stdout",
     "output_type": "stream",
     "text": [
      "\n",
      "[1] Linear Regression\n",
      "[2] Logistic Regression\n",
      "[3] K Nearest Neighbors\n",
      "[4] Random Forest Classifier\n",
      "[5] Extra Tree Classifier\n",
      "[6] Decision Tree Classifier\n",
      "[7] Ada Boost Classifier\n",
      "[8] ALL\n",
      "8\n",
      "Folding? 5\n",
      "\n"
     ]
    }
   ],
   "source": [
    "selectline = \"\"\"\n",
    "[1] Linear Regression\n",
    "[2] Logistic Regression\n",
    "[3] K Nearest Neighbors\n",
    "[4] Random Forest Classifier\n",
    "[5] Extra Tree Classifier\n",
    "[6] Decision Tree Classifier\n",
    "[7] Ada Boost Classifier\n",
    "[8] ALL\n",
    "\"\"\"\n",
    "select = str(input(selectline))\n",
    "\n",
    "folding = input('Folding? ')\n",
    "print \"\""
   ]
  },
  {
   "cell_type": "code",
   "execution_count": 136,
   "metadata": {},
   "outputs": [
    {
     "name": "stdout",
     "output_type": "stream",
     "text": [
      "------- Linear Regression -------\n",
      "mean value of X_low_variance: 6067631504.59\n",
      "mean value of X_RFE: 0.124333295762\n",
      "mean value of X_PCA: 0.322359984719\n",
      "mean value of X_tree: 0.404151840593\n",
      "mean value of X_univariate: 0.169884750181\n",
      "mean value of X: 0.145662640861\n",
      "time elapsed: 0.795543909073 \n",
      "\n"
     ]
    }
   ],
   "source": [
    "if \"1\" in select or \"8\" in select:\n",
    "    do_learning(linreg, \"Linear Regression\")"
   ]
  },
  {
   "cell_type": "code",
   "execution_count": 137,
   "metadata": {},
   "outputs": [
    {
     "name": "stdout",
     "output_type": "stream",
     "text": [
      "------- Logistic Regression -------\n",
      "mean value of X_low_variance: 0.333024355111\n",
      "mean value of X_RFE: 0.0980070447778\n",
      "mean value of X_PCA: 0.331016462838\n",
      "mean value of X_tree: 0.338751039772\n",
      "mean value of X_univariate: 0.337842737983\n",
      "mean value of X: 0.283121653788\n",
      "time elapsed: 1.50186896324 \n",
      "\n"
     ]
    }
   ],
   "source": [
    "if \"2\" in select or \"8\" in select:\n",
    "    do_learning(logreg, \"Logistic Regression\")"
   ]
  },
  {
   "cell_type": "code",
   "execution_count": 138,
   "metadata": {},
   "outputs": [
    {
     "name": "stdout",
     "output_type": "stream",
     "text": [
      "------- KNN -------\n",
      "mean value of X_low_variance: 0.244567859777\n",
      "mean value of X_RFE: 0.177449471352\n",
      "mean value of X_PCA: 0.277814685626\n",
      "mean value of X_tree: 0.215962516839\n",
      "mean value of X_univariate: 0.215124983101\n",
      "mean value of X: 0.267421876851\n",
      "time elapsed: 10.4918100834 \n",
      "\n"
     ]
    }
   ],
   "source": [
    "if \"3\" in select or \"8\" in select:\n",
    "    do_learning(knn, \"KNN\")"
   ]
  },
  {
   "cell_type": "code",
   "execution_count": 139,
   "metadata": {},
   "outputs": [
    {
     "name": "stdout",
     "output_type": "stream",
     "text": [
      "------- Random Forest -------\n",
      "mean value of X_low_variance: 0.235851366301\n",
      "mean value of X_RFE: 0.125475724511\n",
      "mean value of X_PCA: 0.344491908647\n",
      "mean value of X_tree: 0.21259026124\n",
      "mean value of X_univariate: 0.218505085796\n",
      "mean value of X: 0.24632245009\n",
      "time elapsed: 2.00009298325 \n",
      "\n"
     ]
    }
   ],
   "source": [
    "if \"4\" in select or \"8\" in select:\n",
    "    do_learning(ranforest, \"Random Forest\")"
   ]
  },
  {
   "cell_type": "code",
   "execution_count": 140,
   "metadata": {},
   "outputs": [
    {
     "name": "stdout",
     "output_type": "stream",
     "text": [
      "------- Extra Tree Classifier -------\n",
      "mean value of X_low_variance: 0.231637221896\n",
      "mean value of X_RFE: 0.125475724511\n",
      "mean value of X_PCA: 0.282642394693\n",
      "mean value of X_tree: 0.24304751926\n",
      "mean value of X_univariate: 0.219645975071\n",
      "mean value of X: 0.282861242256\n",
      "time elapsed: 1.45078897476 \n",
      "\n"
     ]
    }
   ],
   "source": [
    "if \"5\" in select or \"8\" in select:\n",
    "    do_learning(extree, \"Extra Tree Classifier\")"
   ]
  },
  {
   "cell_type": "code",
   "execution_count": 141,
   "metadata": {},
   "outputs": [
    {
     "name": "stdout",
     "output_type": "stream",
     "text": [
      "------- Decision Tree Classifier -------\n",
      "mean value of X_low_variance: 0.262539022868\n",
      "mean value of X_RFE: 0.133169028486\n",
      "mean value of X_PCA: 0.351732075049\n",
      "mean value of X_tree: 0.228419668362\n",
      "mean value of X_univariate: 0.108732056444\n",
      "mean value of X: 0.0607793267739\n",
      "time elapsed: 0.81340098381 \n",
      "\n"
     ]
    }
   ],
   "source": [
    "if \"6\" in select or \"8\" in select:\n",
    "    do_learning(dectree, \"Decision Tree Classifier\")"
   ]
  },
  {
   "cell_type": "code",
   "execution_count": 142,
   "metadata": {},
   "outputs": [
    {
     "name": "stdout",
     "output_type": "stream",
     "text": [
      "------- AdaBoost Classifier -------\n",
      "mean value of X_low_variance: 0.30584546038\n",
      "mean value of X_RFE: 0.175071925225\n",
      "mean value of X_PCA: 0.4007870759\n",
      "mean value of X_tree: 0.256603617456\n",
      "mean value of X_univariate: 0.260372026871\n",
      "mean value of X: 0.270103285103\n",
      "time elapsed: 2.77369594574 \n",
      "\n"
     ]
    }
   ],
   "source": [
    "if \"7\" in select or \"8\" in select:\n",
    "    do_learning(adaboost, \"AdaBoost Classifier\")"
   ]
  },
  {
   "cell_type": "code",
   "execution_count": 147,
   "metadata": {},
   "outputs": [],
   "source": [
    "nparray\n",
    "df = pd.DataFrame(nparray)\n",
    "df.to_csv('./result_cv{}.csv'.format(folding), header=None, index=None)"
   ]
  },
  {
   "cell_type": "code",
   "execution_count": null,
   "metadata": {},
   "outputs": [],
   "source": []
  }
 ],
 "metadata": {
  "kernelspec": {
   "display_name": "ai2",
   "language": "python",
   "name": "ai2"
  },
  "language_info": {
   "codemirror_mode": {
    "name": "ipython",
    "version": 2
   },
   "file_extension": ".py",
   "mimetype": "text/x-python",
   "name": "python",
   "nbconvert_exporter": "python",
   "pygments_lexer": "ipython2",
   "version": "2.7.10"
  }
 },
 "nbformat": 4,
 "nbformat_minor": 2
}
