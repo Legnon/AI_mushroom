{
 "cells": [
  {
   "cell_type": "code",
   "execution_count": 19,
   "metadata": {},
   "outputs": [],
   "source": [
    "#-*- coding: utf-8 -*-\n",
    "\n",
    "from sklearn.linear_model import LinearRegression, LogisticRegression\n",
    "from sklearn.cross_validation import cross_val_score\n",
    "from sklearn.neighbors import KNeighborsClassifier\n",
    "from sklearn.ensemble import RandomForestClassifier, ExtraTreesClassifier, AdaBoostClassifier\n",
    "from sklearn.tree import DecisionTreeClassifier\n",
    "\n",
    "import pandas as pd\n",
    "import numpy as np\n",
    "import time"
   ]
  },
  {
   "cell_type": "code",
   "execution_count": 20,
   "metadata": {},
   "outputs": [],
   "source": [
    "from data import Y, X, X_univariate, X_low_variance, X_PCA, X_RFE, X_tree, percent, num, num_of_steps"
   ]
  },
  {
   "cell_type": "code",
   "execution_count": 21,
   "metadata": {},
   "outputs": [],
   "source": [
    "def do_learning(algorithm, name):\n",
    "    global nparray\n",
    "    print \"------- {} -------\".format(name)\n",
    "    start_time = time.time()\n",
    "    scores = [name]\n",
    "    for key, value in X_vars.items():\n",
    "        score = cross_val_score(algorithm, value, Y, cv=folding, scoring='mean_squared_error')\n",
    "        print \"mean value of {}: {}\".format(key, np.sqrt(-score.mean()))\n",
    "        scores += [-score.mean()]\n",
    "    print \"time elapsed: {} \".format(time.time() - start_time)\n",
    "    print \"\"\n",
    "    nparray = np.vstack([nparray, scores])"
   ]
  },
  {
   "cell_type": "code",
   "execution_count": 22,
   "metadata": {},
   "outputs": [],
   "source": [
    "X_vars = {\n",
    "    'X': X,\n",
    "    'X_univariate': X_univariate,\n",
    "    'X_low_variance': X_low_variance,\n",
    "    'X_PCA': X_PCA,\n",
    "    'X_RFE': X_RFE, \n",
    "    'X_tree': X_tree\n",
    "}"
   ]
  },
  {
   "cell_type": "code",
   "execution_count": 23,
   "metadata": {},
   "outputs": [],
   "source": [
    "linreg = LinearRegression()\n",
    "logreg = LogisticRegression()\n",
    "knn = KNeighborsClassifier(n_neighbors=1)\n",
    "dectree = DecisionTreeClassifier(max_depth=None, min_samples_split=2, random_state=0)\n",
    "ranforest = RandomForestClassifier(n_estimators=10, max_depth=None, min_samples_split=2, random_state=0)\n",
    "extree = ExtraTreesClassifier(n_estimators=10, max_depth=None, min_samples_split=2, random_state=0)\n",
    "adaboost = AdaBoostClassifier(n_estimators=10)\n",
    "\n",
    "scores = ['']\n",
    "for k, v in X_vars.items():\n",
    "    scores += [k]\n",
    "\n",
    "nparray = np.array([scores])"
   ]
  },
  {
   "cell_type": "code",
   "execution_count": 24,
   "metadata": {},
   "outputs": [
    {
     "name": "stdout",
     "output_type": "stream",
     "text": [
      "\n",
      "[1] Linear Regression\n",
      "[2] Logistic Regression\n",
      "[3] K Nearest Neighbors\n",
      "[4] Random Forest Classifier\n",
      "[5] Extra Tree Classifier\n",
      "[6] Decision Tree Classifier\n",
      "[7] Ada Boost Classifier\n",
      "[8] ALL\n",
      "8\n",
      "Folding? 5\n",
      "\n"
     ]
    }
   ],
   "source": [
    "selectline = \"\"\"\n",
    "[1] Linear Regression\n",
    "[2] Logistic Regression\n",
    "[3] K Nearest Neighbors\n",
    "[4] Random Forest Classifier\n",
    "[5] Extra Tree Classifier\n",
    "[6] Decision Tree Classifier\n",
    "[7] Ada Boost Classifier\n",
    "[8] ALL\n",
    "\"\"\"\n",
    "select = str(input(selectline))\n",
    "\n",
    "folding = input('Folding? ')\n",
    "print \"\""
   ]
  },
  {
   "cell_type": "code",
   "execution_count": 25,
   "metadata": {},
   "outputs": [
    {
     "name": "stdout",
     "output_type": "stream",
     "text": [
      "------- Linear Regression -------\n",
      "mean value of X_low_variance: 0.329044016787\n",
      "mean value of X_RFE: 0.075931800663\n",
      "mean value of X_PCA: 0.309147549521\n",
      "mean value of X_tree: 0.22114898481\n",
      "mean value of X_univariate: 0.341206240004\n",
      "mean value of X: 0.145663653703\n",
      "time elapsed: 0.547070980072 \n",
      "\n"
     ]
    }
   ],
   "source": [
    "if \"1\" in select or \"8\" in select:\n",
    "    do_learning(linreg, \"Linear Regression\")"
   ]
  },
  {
   "cell_type": "code",
   "execution_count": 26,
   "metadata": {},
   "outputs": [
    {
     "name": "stdout",
     "output_type": "stream",
     "text": [
      "------- Logistic Regression -------\n",
      "mean value of X_low_variance: 0.377563167225\n",
      "mean value of X_RFE: 0.156862028239\n",
      "mean value of X_PCA: 0.354185420085\n",
      "mean value of X_tree: 0.146343859244\n",
      "mean value of X_univariate: 0.269037019554\n",
      "mean value of X: 0.283121653788\n",
      "time elapsed: 0.726665973663 \n",
      "\n"
     ]
    }
   ],
   "source": [
    "if \"2\" in select or \"8\" in select:\n",
    "    do_learning(logreg, \"Logistic Regression\")"
   ]
  },
  {
   "cell_type": "code",
   "execution_count": 27,
   "metadata": {},
   "outputs": [
    {
     "name": "stdout",
     "output_type": "stream",
     "text": [
      "------- KNN -------\n",
      "mean value of X_low_variance: 0.173291291551\n",
      "mean value of X_RFE: 0.177449471352\n",
      "mean value of X_PCA: 0.282658205139\n",
      "mean value of X_tree: 0.180204152444\n",
      "mean value of X_univariate: 0.268108939711\n",
      "mean value of X: 0.267421876851\n",
      "time elapsed: 8.68791794777 \n",
      "\n"
     ]
    }
   ],
   "source": [
    "if \"3\" in select or \"8\" in select:\n",
    "    do_learning(knn, \"KNN\")"
   ]
  },
  {
   "cell_type": "code",
   "execution_count": 28,
   "metadata": {},
   "outputs": [
    {
     "name": "stdout",
     "output_type": "stream",
     "text": [
      "------- Random Forest -------\n",
      "mean value of X_low_variance: 0.209874520855\n",
      "mean value of X_RFE: 0.177449471352\n",
      "mean value of X_PCA: 0.321183785608\n",
      "mean value of X_tree: 0.180204152444\n",
      "mean value of X_univariate: 0.136747294182\n",
      "mean value of X: 0.24632245009\n",
      "time elapsed: 1.76155686378 \n",
      "\n"
     ]
    }
   ],
   "source": [
    "if \"4\" in select or \"8\" in select:\n",
    "    do_learning(ranforest, \"Random Forest\")"
   ]
  },
  {
   "cell_type": "code",
   "execution_count": 29,
   "metadata": {},
   "outputs": [
    {
     "name": "stdout",
     "output_type": "stream",
     "text": [
      "------- Extra Tree Classifier -------\n",
      "mean value of X_low_variance: 0.138117610482\n",
      "mean value of X_RFE: 0.221861003854\n",
      "mean value of X_PCA: 0.316547947134\n",
      "mean value of X_tree: 0.180204152444\n",
      "mean value of X_univariate: 0.228424976865\n",
      "mean value of X: 0.282861242256\n",
      "time elapsed: 1.40960502625 \n",
      "\n"
     ]
    }
   ],
   "source": [
    "if \"5\" in select or \"8\" in select:\n",
    "    do_learning(extree, \"Extra Tree Classifier\")"
   ]
  },
  {
   "cell_type": "code",
   "execution_count": 30,
   "metadata": {},
   "outputs": [
    {
     "name": "stdout",
     "output_type": "stream",
     "text": [
      "------- Decision Tree Classifier -------\n",
      "mean value of X_low_variance: 0.203620193974\n",
      "mean value of X_RFE: 0.0443896761618\n",
      "mean value of X_PCA: 0.311486691079\n",
      "mean value of X_tree: 0.224070361061\n",
      "mean value of X_univariate: 0.166032579755\n",
      "mean value of X: 0.0607793267739\n",
      "time elapsed: 0.897810220718 \n",
      "\n"
     ]
    }
   ],
   "source": [
    "if \"6\" in select or \"8\" in select:\n",
    "    do_learning(dectree, \"Decision Tree Classifier\")"
   ]
  },
  {
   "cell_type": "code",
   "execution_count": 31,
   "metadata": {},
   "outputs": [
    {
     "name": "stdout",
     "output_type": "stream",
     "text": [
      "------- AdaBoost Classifier -------\n",
      "mean value of X_low_variance: 0.386774253788\n",
      "mean value of X_RFE: 0.175071925225\n",
      "mean value of X_PCA: 0.4007870759\n",
      "mean value of X_tree: 0.23740550301\n",
      "mean value of X_univariate: 0.348896979034\n",
      "mean value of X: 0.270103285103\n",
      "time elapsed: 2.53263282776 \n",
      "\n"
     ]
    }
   ],
   "source": [
    "if \"7\" in select or \"8\" in select:\n",
    "    do_learning(adaboost, \"AdaBoost Classifier\")"
   ]
  },
  {
   "cell_type": "code",
   "execution_count": 32,
   "metadata": {},
   "outputs": [],
   "source": [
    "nparray\n",
    "df = pd.DataFrame(nparray)\n",
    "df.to_csv('./result_cv{}_maxnum{}_lowvar{}_RFEstep{}.csv'.format(folding, num, percent, num_of_steps), header=None, index=None)"
   ]
  },
  {
   "cell_type": "code",
   "execution_count": null,
   "metadata": {},
   "outputs": [],
   "source": []
  }
 ],
 "metadata": {
  "kernelspec": {
   "display_name": "ai2",
   "language": "python",
   "name": "ai2"
  },
  "language_info": {
   "codemirror_mode": {
    "name": "ipython",
    "version": 2
   },
   "file_extension": ".py",
   "mimetype": "text/x-python",
   "name": "python",
   "nbconvert_exporter": "python",
   "pygments_lexer": "ipython2",
   "version": "2.7.10"
  }
 },
 "nbformat": 4,
 "nbformat_minor": 2
}
