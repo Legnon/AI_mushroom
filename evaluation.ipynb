{
 "cells": [
  {
   "cell_type": "code",
   "execution_count": 1,
   "metadata": {},
   "outputs": [],
   "source": [
    "#-*- coding: utf-8 -*-\n",
    "\n",
    "from sklearn.linear_model import LinearRegression\n",
    "from sklearn.linear_model import LogisticRegression\n",
    "from sklearn.neighbors import KNeighborsClassifier\n",
    "from sklearn.ensemble import RandomForestClassifier, ExtraTreesClassifier, AdaBoostClassifier\n",
    "from sklearn.tree import DecisionTreeClassifier\n",
    "from sklearn.svm import LinearSVC\n",
    "from sklearn.cross_validation import cross_val_score\n",
    "\n",
    "import pandas as pd\n",
    "import numpy as np\n",
    "import time"
   ]
  },
  {
   "cell_type": "code",
   "execution_count": 2,
   "metadata": {},
   "outputs": [
    {
     "name": "stdout",
     "output_type": "stream",
     "text": [
      "Process data? y/n \n",
      "Max number of features? [default=32] \n",
      "Percent? [default=.81] \n",
      "Number of steps? [default=1] \n",
      "univariate time elapsed: 0.012088060379 \n",
      "univariate time elapsed: 0.0176360607147 \n",
      "low variance time elapsed: 0.0168299674988 \n",
      "tree based time elapsed: 0.0955669879913 \n",
      "PCA time elapsed: 0.357872009277 \n",
      "RFE time elapsed: 5.24679517746 \n",
      "\n"
     ]
    }
   ],
   "source": [
    "from data import mushroom, Y, X, X_univariate_f, X_univariate_chi, X_low_variance, X_PCA, X_RFE, X_tree, percent, num, num_of_steps"
   ]
  },
  {
   "cell_type": "code",
   "execution_count": 3,
   "metadata": {},
   "outputs": [],
   "source": [
    "# read mushroom data from csv\n",
    "mushroom = pd.read_csv('mushrooms.csv')\n",
    "mushroom_target = mushroom['class']\n",
    "\n",
    "# feature selection based on 1R\n",
    "mushroom_1R = mushroom[['odor', 'spore-print-color', 'gill-color']]\n",
    "X_1R = pd.get_dummies(mushroom_1R, prefix=list(mushroom_1R))\n",
    "\n",
    "\n",
    "def do_learning(algorithm, name):\n",
    "    global nparray\n",
    "    print \"------- {} -------\".format(name)\n",
    "    start_time = time.time()\n",
    "    scores = [name]\n",
    "    for key, value in X_vars.items():\n",
    "        score = cross_val_score(algorithm, value, Y, cv=folding, scoring='mean_squared_error')\n",
    "        print \"mean value of {}: {}\".format(key, np.sqrt(-score.mean()))\n",
    "        scores += [-score.mean()]\n",
    "    scores += [time.time() - start_time]\n",
    "    print \"time elapsed: {} \".format(time.time() - start_time)\n",
    "    print \"\"\n",
    "    nparray = np.vstack([nparray, scores])"
   ]
  },
  {
   "cell_type": "code",
   "execution_count": 4,
   "metadata": {},
   "outputs": [],
   "source": [
    "X_vars = {\n",
    "    'X': X,\n",
    "    'X_1R': X_1R,\n",
    "    'X_univariate_chi': X_univariate_chi,\n",
    "    'X_univariate_f': X_univariate_f,\n",
    "    'X_low_variance': X_low_variance,\n",
    "    'X_PCA': X_PCA,\n",
    "    'X_RFE': X_RFE, \n",
    "    'X_tree': X_tree\n",
    "}"
   ]
  },
  {
   "cell_type": "code",
   "execution_count": 9,
   "metadata": {},
   "outputs": [
    {
     "name": "stdout",
     "output_type": "stream",
     "text": [
      "Max number of estimators? [default=10] \n",
      "Max number of neighbors? [default=3] 1\n"
     ]
    }
   ],
   "source": [
    "# number of estimators\n",
    "n_est = raw_input('Max number of estimators? [default=10] ')\n",
    "if not n_est: n_est = 10\n",
    "else: n_est = int(n_est)\n",
    "\n",
    "# number of neighbors\n",
    "n_knn = raw_input('Max number of neighbors? [default=3] ')\n",
    "if not n_knn: n_knn = 3\n",
    "else: n_knn = int(n_knn)\n",
    "\n",
    "# regressor 중 한개임\n",
    "linreg = LinearRegression()\n",
    "\n",
    "# linearSVC\n",
    "linsvc = LinearSVC()\n",
    "\n",
    "# 수업때 들은 KNN임 알고 있으니 설명 쉬울듯\n",
    "knn = KNeighborsClassifier(n_neighbors=n_knn, weights='distance')\n",
    "\n",
    "# decision tree\n",
    "dectree = DecisionTreeClassifier(max_depth=None, min_samples_split=2, random_state=0)\n",
    "\n",
    "# decision tree expansion\n",
    "ranforest = RandomForestClassifier(n_estimators=n_est, max_depth=None, min_samples_split=2, random_state=0)\n",
    "extree = ExtraTreesClassifier(n_estimators=n_est, max_depth=None, min_samples_split=2, random_state=0)\n",
    "\n",
    "# adaboost\n",
    "adaboost = AdaBoostClassifier(n_estimators=n_est)\n",
    "\n",
    "scores = ['']\n",
    "for k, v in X_vars.items():\n",
    "    scores += [k]\n",
    "scores += ['time']\n",
    "\n",
    "nparray = np.array([scores])"
   ]
  },
  {
   "cell_type": "code",
   "execution_count": 6,
   "metadata": {},
   "outputs": [
    {
     "name": "stdout",
     "output_type": "stream",
     "text": [
      "\n",
      "[1] Linear Regression\n",
      "[2] Linear SVC\n",
      "[3] K Nearest Neighbors\n",
      "[4] Decision Tree Classifier\n",
      "[5] Random Forest Classifier\n",
      "[6] Extra Tree Classifier\n",
      "[7] Ada Boost Classifier\n",
      "[8] ALL\n",
      "8\n",
      "Folding? [default=3] \n"
     ]
    }
   ],
   "source": [
    "selectline = \"\"\"\n",
    "[1] Linear Regression\n",
    "[2] Linear SVC\n",
    "[3] K Nearest Neighbors\n",
    "[4] Decision Tree Classifier\n",
    "[5] Random Forest Classifier\n",
    "[6] Extra Tree Classifier\n",
    "[7] Ada Boost Classifier\n",
    "[8] ALL\n",
    "\"\"\"\n",
    "select = str(input(selectline))\n",
    "\n",
    "\n",
    "# number of foldings for cross validation\n",
    "folding = raw_input('Folding? [default=3] ')\n",
    "if not folding: folding = 3\n",
    "else: folding = int(folding)"
   ]
  },
  {
   "cell_type": "code",
   "execution_count": 15,
   "metadata": {},
   "outputs": [
    {
     "name": "stdout",
     "output_type": "stream",
     "text": [
      "------- Linear Regression -------\n",
      "mean value of X_PCA: 0.333989942525\n",
      "mean value of X_low_variance: 0.347131072863\n",
      "mean value of X_univariate_f: 0.312350699955\n",
      "mean value of X_tree: 0.115282504882\n",
      "mean value of X_univariate_chi: 0.288230771949\n",
      "mean value of X_RFE: 0.12390553065\n",
      "mean value of X: 0.173786982246\n",
      "mean value of X_1R: 0.00170892713975\n",
      "time elapsed: 0.75207400322 \n",
      "\n"
     ]
    }
   ],
   "source": [
    "if \"1\" in select or \"8\" in select:\n",
    "    do_learning(linreg, \"Linear Regression\")"
   ]
  },
  {
   "cell_type": "code",
   "execution_count": 16,
   "metadata": {},
   "outputs": [
    {
     "name": "stdout",
     "output_type": "stream",
     "text": [
      "------- Linear SVC -------\n",
      "mean value of X_PCA: 0.312631668075\n",
      "mean value of X_low_variance: 0.380664175705\n",
      "mean value of X_univariate_f: 0.227363787849\n",
      "mean value of X_tree: 0.205826460932\n",
      "mean value of X_univariate_chi: 0.316367123132\n",
      "mean value of X_RFE: 0.165659694334\n",
      "mean value of X: 0.246375331664\n",
      "mean value of X_1R: -0.0\n",
      "time elapsed: 1.33582901955 \n",
      "\n"
     ]
    }
   ],
   "source": [
    "if \"2\" in select or \"8\" in select:\n",
    "    do_learning(linsvc, \"Linear SVC\")"
   ]
  },
  {
   "cell_type": "code",
   "execution_count": 7,
   "metadata": {},
   "outputs": [
    {
     "name": "stdout",
     "output_type": "stream",
     "text": [
      "------- KNN -------\n",
      "mean value of X_PCA: 0.334710227991\n",
      "mean value of X_low_variance: 0.252265588985\n",
      "mean value of X_univariate_f: 0.336896392782\n",
      "mean value of X_tree: 0.147175308326\n",
      "mean value of X_univariate_chi: 0.323475450683\n",
      "mean value of X_RFE: 0.269951794933\n",
      "mean value of X: 0.305676424586\n",
      "mean value of X_1R: 0.309066125066\n",
      "time elapsed: 14.3375089169 \n",
      "\n"
     ]
    }
   ],
   "source": [
    "if \"3\" in select or \"8\" in select:\n",
    "    do_learning(knn, \"KNN\")"
   ]
  },
  {
   "cell_type": "code",
   "execution_count": 18,
   "metadata": {},
   "outputs": [
    {
     "name": "stdout",
     "output_type": "stream",
     "text": [
      "------- Decision Tree Classifier -------\n",
      "mean value of X_PCA: 0.299147748487\n",
      "mean value of X_low_variance: 0.260655935773\n",
      "mean value of X_univariate_f: 0.21046661649\n",
      "mean value of X_tree: 0.0313882410287\n",
      "mean value of X_univariate_chi: 0.217374933424\n",
      "mean value of X_RFE: 0.0443896761618\n",
      "mean value of X: 0.0607793267739\n",
      "mean value of X_1R: -0.0\n",
      "time elapsed: 0.783784151077 \n",
      "\n"
     ]
    }
   ],
   "source": [
    "if \"4\" in select or \"8\" in select:\n",
    "    do_learning(dectree, \"Decision Tree Classifier\")"
   ]
  },
  {
   "cell_type": "code",
   "execution_count": 19,
   "metadata": {},
   "outputs": [
    {
     "name": "stdout",
     "output_type": "stream",
     "text": [
      "------- Random Forest -------\n",
      "mean value of X_PCA: 0.328187738538\n",
      "mean value of X_low_variance: 0.232697790778\n",
      "mean value of X_univariate_f: 0.252983458262\n",
      "mean value of X_tree: 0.185590893925\n",
      "mean value of X_univariate_chi: 0.251028700509\n",
      "mean value of X_RFE: 0.147158035767\n",
      "mean value of X: 0.272663357019\n",
      "mean value of X_1R: -0.0\n",
      "time elapsed: 2.32333898544 \n",
      "\n"
     ]
    }
   ],
   "source": [
    "if \"5\" in select or \"8\" in select:\n",
    "    do_learning(ranforest, \"Random Forest\")"
   ]
  },
  {
   "cell_type": "code",
   "execution_count": 20,
   "metadata": {},
   "outputs": [
    {
     "name": "stdout",
     "output_type": "stream",
     "text": [
      "------- Extra Tree Classifier -------\n",
      "mean value of X_PCA: 0.333040166637\n",
      "mean value of X_low_variance: 0.216523273037\n",
      "mean value of X_univariate_f: 0.210489646621\n",
      "mean value of X_tree: 0.224070361061\n",
      "mean value of X_univariate_chi: 0.236894188943\n",
      "mean value of X_RFE: 0.133096208779\n",
      "mean value of X: 0.251028700509\n",
      "mean value of X_1R: -0.0\n",
      "time elapsed: 1.69453191757 \n",
      "\n"
     ]
    }
   ],
   "source": [
    "if \"6\" in select or \"8\" in select:\n",
    "    do_learning(extree, \"Extra Tree Classifier\")"
   ]
  },
  {
   "cell_type": "code",
   "execution_count": 21,
   "metadata": {},
   "outputs": [
    {
     "name": "stdout",
     "output_type": "stream",
     "text": [
      "------- AdaBoost Classifier -------\n",
      "mean value of X_PCA: 0.377400552173\n",
      "mean value of X_low_variance: 0.399429335875\n",
      "mean value of X_univariate_f: 0.346599621788\n",
      "mean value of X_tree: 0.159226558004\n",
      "mean value of X_univariate_chi: 0.340330784588\n",
      "mean value of X_RFE: 0.175071925225\n",
      "mean value of X: 0.270103285103\n",
      "mean value of X_1R: -0.0\n",
      "time elapsed: 2.81560492516 \n",
      "\n"
     ]
    }
   ],
   "source": [
    "if \"7\" in select or \"8\" in select:\n",
    "    do_learning(adaboost, \"AdaBoost Classifier\")"
   ]
  },
  {
   "cell_type": "code",
   "execution_count": 8,
   "metadata": {},
   "outputs": [
    {
     "name": "stdout",
     "output_type": "stream",
     "text": [
      "10\n"
     ]
    }
   ],
   "source": [
    "nparray\n",
    "df = pd.DataFrame(nparray)\n",
    "df.to_csv('./result_cv{}_maxnum{}_lowvar{}_RFEstep{}_knn{}_est{}.csv'.format(folding, num, percent, num_of_steps, n_knn, n_est), header=None, index=None)"
   ]
  },
  {
   "cell_type": "code",
   "execution_count": null,
   "metadata": {},
   "outputs": [],
   "source": []
  }
 ],
 "metadata": {
  "kernelspec": {
   "display_name": "ai2",
   "language": "python",
   "name": "ai2"
  },
  "language_info": {
   "codemirror_mode": {
    "name": "ipython",
    "version": 2
   },
   "file_extension": ".py",
   "mimetype": "text/x-python",
   "name": "python",
   "nbconvert_exporter": "python",
   "pygments_lexer": "ipython2",
   "version": "2.7.10"
  }
 },
 "nbformat": 4,
 "nbformat_minor": 2
}
