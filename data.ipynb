{
 "cells": [
  {
   "cell_type": "code",
   "execution_count": 16,
   "metadata": {},
   "outputs": [],
   "source": [
    "#-*- coding: utf-8 -*-\n",
    "\n",
    "from sklearn.feature_selection import SelectKBest, chi2, RFE, VarianceThreshold, SelectFromModel\n",
    "from sklearn.decomposition import PCA\n",
    "from sklearn.ensemble import ExtraTreesClassifier\n",
    "from sklearn.linear_model import LogisticRegression"
   ]
  },
  {
   "cell_type": "code",
   "execution_count": 17,
   "metadata": {},
   "outputs": [],
   "source": [
    "import pandas as pd\n",
    "import numpy as np\n",
    "\n",
    "import time"
   ]
  },
  {
   "cell_type": "code",
   "execution_count": 18,
   "metadata": {},
   "outputs": [],
   "source": [
    "# read mushroom data from csv\n",
    "mushroom = pd.read_csv('mushrooms.csv')\n",
    "\n",
    "# transform string data to binary\n",
    "X = pd.get_dummies(mushroom, prefix=list(mushroom))\n",
    "\n",
    "# set target\n",
    "Y = X['class_p'].values\n",
    "\n",
    "# drop target from train data\n",
    "X.drop('class_e', inplace=True, axis=1)\n",
    "X.drop('class_p', inplace=True, axis=1)\n",
    "\n",
    "# drop data that was orginally binary values such as bruises\n",
    "X.drop('bruises_t', inplace=True, axis=1)\n",
    "X.drop('gill-size_b', inplace=True, axis=1)\n",
    "X.drop('stalk-shape_e', inplace=True, axis=1)\n",
    "X.drop('veil-type_p', inplace=True, axis=1)\n",
    "X = X.values"
   ]
  },
  {
   "cell_type": "code",
   "execution_count": 27,
   "metadata": {},
   "outputs": [],
   "source": [
    "# maximum number of features\n",
    "num = 20"
   ]
  },
  {
   "cell_type": "code",
   "execution_count": 21,
   "metadata": {},
   "outputs": [
    {
     "name": "stdout",
     "output_type": "stream",
     "text": [
      "(8124, 20)\n",
      "univariate time elapsed: 0.0102970600128 \n"
     ]
    }
   ],
   "source": [
    "# univariate feature extraction\n",
    "start_time = time.time()\n",
    "test = SelectKBest(score_func=chi2, k=num)\n",
    "fit = test.fit(X, Y)\n",
    "np.set_printoptions(precision=3)\n",
    "X_univariate = fit.transform(X)\n",
    "print X_univariate.shape\n",
    "print \"univariate time elapsed: {} \".format(time.time() - start_time)"
   ]
  },
  {
   "cell_type": "code",
   "execution_count": 30,
   "metadata": {},
   "outputs": [
    {
     "name": "stdout",
     "output_type": "stream",
     "text": [
      "(8124, 20)\n",
      "low variance time elapsed: 0.0107748508453 \n"
     ]
    }
   ],
   "source": [
    "# percent used in low variance feature selection\n",
    "percent = .71\n",
    "\n",
    "# low variance\n",
    "start_time = time.time()\n",
    "sel = VarianceThreshold(threshold=(percent * (1 - percent)))\n",
    "X_low_variance = sel.fit_transform(X)\n",
    "print X_low_variance.shape\n",
    "print \"low variance time elapsed: {} \".format(time.time() - start_time)"
   ]
  },
  {
   "cell_type": "code",
   "execution_count": 34,
   "metadata": {},
   "outputs": [
    {
     "name": "stdout",
     "output_type": "stream",
     "text": [
      "(8124, 22)\n",
      "tree based time elapsed: 0.108003139496 \n"
     ]
    }
   ],
   "source": [
    "# tree based feature selection\n",
    "start_time = time.time()\n",
    "clf = ExtraTreesClassifier(max_features=num)\n",
    "clf.fit(X, Y)\n",
    "model = SelectFromModel(estimator=clf, prefit=True)\n",
    "X_tree = model.transform(X)\n",
    "X_tree.shape\n",
    "print \"tree based time elapsed: {} \".format(time.time() - start_time)"
   ]
  },
  {
   "cell_type": "code",
   "execution_count": 33,
   "metadata": {},
   "outputs": [
    {
     "name": "stdout",
     "output_type": "stream",
     "text": [
      "(8124, 20)\n",
      "PCA time elapsed: 0.363460063934 \n"
     ]
    }
   ],
   "source": [
    "# PCA feature extraction\n",
    "start_time = time.time()\n",
    "pca = PCA(n_components=num)\n",
    "fit = pca.fit(X)\n",
    "# summarize components\n",
    "# print \"Explained Variance: %s\" % fit.explained_variance_ratio_\n",
    "X_PCA = fit.fit_transform(X, Y)\n",
    "X_PCA.shape\n",
    "print \"PCA time elapsed: {} \".format(time.time() - start_time)"
   ]
  },
  {
   "cell_type": "code",
   "execution_count": 32,
   "metadata": {},
   "outputs": [
    {
     "name": "stdout",
     "output_type": "stream",
     "text": [
      "(8124, 20)\n",
      "RFE time elapsed: 1.17895007133 \n"
     ]
    }
   ],
   "source": [
    "# number of steps to iterate in RFE\n",
    "num_of_steps = 5\n",
    "\n",
    "# recursive feature elimination\n",
    "start_time = time.time()\n",
    "logreg = LogisticRegression()\n",
    "rfe = RFE(logreg, num, step=num_of_steps)\n",
    "fit = rfe.fit(X, Y)\n",
    "# print(\"Selected Features: %s\") % fit.support_\n",
    "# print(\"Feature Ranking: %s\") % fit.ranking_\n",
    "X_RFE = fit.fit_transform(X, Y)\n",
    "X_RFE.shape\n",
    "print \"RFE time elapsed: {} \".format(time.time() - start_time)"
   ]
  },
  {
   "cell_type": "code",
   "execution_count": null,
   "metadata": {},
   "outputs": [],
   "source": [
    "print \"\""
   ]
  }
 ],
 "metadata": {
  "kernelspec": {
   "display_name": "ai2",
   "language": "python",
   "name": "ai2"
  },
  "language_info": {
   "codemirror_mode": {
    "name": "ipython",
    "version": 2
   },
   "file_extension": ".py",
   "mimetype": "text/x-python",
   "name": "python",
   "nbconvert_exporter": "python",
   "pygments_lexer": "ipython2",
   "version": "2.7.10"
  }
 },
 "nbformat": 4,
 "nbformat_minor": 2
}
