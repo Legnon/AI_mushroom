{
 "cells": [
  {
   "cell_type": "code",
   "execution_count": 3,
   "metadata": {},
   "outputs": [],
   "source": [
    "#-*- coding: utf-8 -*-\n",
    "\n",
    "from sklearn.feature_selection import SelectKBest, chi2, f_classif, RFE, VarianceThreshold, SelectFromModel\n",
    "from sklearn.decomposition import PCA\n",
    "from sklearn.ensemble import ExtraTreesClassifier\n",
    "from sklearn.linear_model import LogisticRegression"
   ]
  },
  {
   "cell_type": "code",
   "execution_count": 6,
   "metadata": {},
   "outputs": [],
   "source": [
    "import pandas as pd\n",
    "import numpy as np\n",
    "\n",
    "import time"
   ]
  },
  {
   "cell_type": "code",
   "execution_count": 14,
   "metadata": {},
   "outputs": [
    {
     "name": "stdout",
     "output_type": "stream",
     "text": [
      "Process data? y/n y\n"
     ]
    }
   ],
   "source": [
    "# read mushroom data from csv\n",
    "mushroom = pd.read_csv('mushrooms.csv')\n",
    "mushroom_target = mushroom['class']\n",
    "\n",
    "# transform string data to binary\n",
    "X = pd.get_dummies(mushroom, prefix=list(mushroom))\n",
    "\n",
    "# set target\n",
    "Y = X['class_p'].values\n",
    "\n",
    "# drop target from train data\n",
    "X.drop('class_e', inplace=True, axis=1)\n",
    "X.drop('class_p', inplace=True, axis=1)\n",
    "\n",
    "# data preprocessing\n",
    "missing = raw_input('Process data? y/n ')\n",
    "if missing != 'n':\n",
    "    # drop data that was orginally binary values such as bruises\n",
    "    X.drop('bruises_t', inplace=True, axis=1)\n",
    "    X.drop('gill-size_b', inplace=True, axis=1)\n",
    "    X.drop('stalk-shape_e', inplace=True, axis=1)\n",
    "    X.drop('veil-type_p', inplace=True, axis=1)\n",
    "    #missing values\n",
    "    X.drop('stalk-root_?', inplace=True, axis=1)\n",
    "    \n",
    "X = X.values"
   ]
  },
  {
   "cell_type": "code",
   "execution_count": 33,
   "metadata": {},
   "outputs": [
    {
     "name": "stdout",
     "output_type": "stream",
     "text": [
      "Max number of features? [default=32] \n",
      "Percent? [default=.81] \n",
      "Number of steps? [default=1] \n"
     ]
    }
   ],
   "source": [
    "# maximum number of features\n",
    "num = raw_input('Max number of features? [default=32] ')\n",
    "if not num: num = 32\n",
    "else: num = int(num)\n",
    "    \n",
    "# percent used in low variance feature selection\n",
    "percent = raw_input('Percent? [default=.81] ')\n",
    "if not percent: percent = .81\n",
    "else: percent = float(percent)\n",
    "# number of steps to iterate in RFE\n",
    "num_of_steps = raw_input('Number of steps? [default=1] ')\n",
    "if not num_of_steps: num_of_steps = 1\n",
    "else: num_of_steps = int(num_of_steps)"
   ]
  },
  {
   "cell_type": "code",
   "execution_count": 16,
   "metadata": {},
   "outputs": [
    {
     "name": "stdout",
     "output_type": "stream",
     "text": [
      "(8124, 32)\n",
      "univariate time elapsed: 0.0211451053619 \n"
     ]
    }
   ],
   "source": [
    "# univariate feature extraction\n",
    "start_time = time.time()\n",
    "test = SelectKBest(score_func=chi2, k=num)\n",
    "fit = test.fit(X, Y)\n",
    "np.set_printoptions(precision=3)\n",
    "X_univariate_chi = fit.transform(X)\n",
    "X_univariate_chi.shape\n",
    "print \"univariate time elapsed: {} \".format(time.time() - start_time)"
   ]
  },
  {
   "cell_type": "code",
   "execution_count": 35,
   "metadata": {},
   "outputs": [
    {
     "name": "stdout",
     "output_type": "stream",
     "text": [
      "univariate time elapsed: 0.0174260139465 \n"
     ]
    }
   ],
   "source": [
    "# univariate feature extraction\n",
    "start_time = time.time()\n",
    "test = SelectKBest(score_func=f_classif, k=num)\n",
    "fit = test.fit(X, Y)\n",
    "np.set_printoptions(precision=3)\n",
    "X_univariate_f = fit.transform(X)\n",
    "X_univariate_f.shape\n",
    "print \"univariate time elapsed: {} \".format(time.time() - start_time)"
   ]
  },
  {
   "cell_type": "code",
   "execution_count": 34,
   "metadata": {},
   "outputs": [
    {
     "name": "stdout",
     "output_type": "stream",
     "text": [
      "(8124, 32)\n",
      "low variance time elapsed: 0.0105011463165 \n"
     ]
    }
   ],
   "source": [
    "# low variance\n",
    "start_time = time.time()\n",
    "sel = VarianceThreshold(threshold=(percent * (1 - percent)))\n",
    "X_low_variance = sel.fit_transform(X)\n",
    "X_low_variance.shape\n",
    "print \"low variance time elapsed: {} \".format(time.time() - start_time)"
   ]
  },
  {
   "cell_type": "code",
   "execution_count": 20,
   "metadata": {},
   "outputs": [
    {
     "name": "stdout",
     "output_type": "stream",
     "text": [
      "tree based time elapsed: 0.117341995239 \n"
     ]
    }
   ],
   "source": [
    "# tree based feature selection\n",
    "start_time = time.time()\n",
    "clf = ExtraTreesClassifier(max_features=num)\n",
    "clf.fit(X, Y)\n",
    "model = SelectFromModel(estimator=clf, prefit=True)\n",
    "X_tree = model.transform(X)\n",
    "X_tree.shape\n",
    "print \"tree based time elapsed: {} \".format(time.time() - start_time)"
   ]
  },
  {
   "cell_type": "code",
   "execution_count": 21,
   "metadata": {},
   "outputs": [
    {
     "name": "stdout",
     "output_type": "stream",
     "text": [
      "PCA time elapsed: 0.51239490509 \n"
     ]
    }
   ],
   "source": [
    "# PCA feature extraction\n",
    "start_time = time.time()\n",
    "pca = PCA(n_components=num)\n",
    "fit = pca.fit(X)\n",
    "# summarize components\n",
    "# print \"Explained Variance: %s\" % fit.explained_variance_ratio_\n",
    "X_PCA = fit.fit_transform(X, Y)\n",
    "X_PCA.shape\n",
    "print \"PCA time elapsed: {} \".format(time.time() - start_time)"
   ]
  },
  {
   "cell_type": "code",
   "execution_count": 22,
   "metadata": {},
   "outputs": [
    {
     "name": "stdout",
     "output_type": "stream",
     "text": [
      "Number of steps? [default=5] \n",
      "RFE time elapsed: 1.25409698486 \n"
     ]
    }
   ],
   "source": [
    "# recursive feature elimination\n",
    "start_time = time.time()\n",
    "logreg = LogisticRegression()\n",
    "rfe = RFE(logreg, num, step=num_of_steps)\n",
    "fit = rfe.fit(X, Y)\n",
    "# print(\"Selected Features: %s\") % fit.support_\n",
    "# print(\"Feature Ranking: %s\") % fit.ranking_\n",
    "X_RFE = fit.fit_transform(X, Y)\n",
    "X_RFE.shape\n",
    "print \"RFE time elapsed: {} \".format(time.time() - start_time)"
   ]
  },
  {
   "cell_type": "code",
   "execution_count": 23,
   "metadata": {},
   "outputs": [
    {
     "name": "stdout",
     "output_type": "stream",
     "text": [
      "\n"
     ]
    }
   ],
   "source": [
    "print \"\""
   ]
  },
  {
   "cell_type": "code",
   "execution_count": null,
   "metadata": {},
   "outputs": [],
   "source": []
  }
 ],
 "metadata": {
  "kernelspec": {
   "display_name": "ai2",
   "language": "python",
   "name": "ai2"
  },
  "language_info": {
   "codemirror_mode": {
    "name": "ipython",
    "version": 2
   },
   "file_extension": ".py",
   "mimetype": "text/x-python",
   "name": "python",
   "nbconvert_exporter": "python",
   "pygments_lexer": "ipython2",
   "version": "2.7.10"
  }
 },
 "nbformat": 4,
 "nbformat_minor": 2
}
