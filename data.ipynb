{
 "cells": [
  {
   "cell_type": "code",
   "execution_count": 81,
   "metadata": {},
   "outputs": [],
   "source": [
    "#-*- coding: utf-8 -*-\n",
    "\n",
    "from sklearn.feature_selection import SelectKBest, chi2, RFE, VarianceThreshold, SelectFromModel\n",
    "from sklearn.decomposition import PCA\n",
    "from sklearn.ensemble import ExtraTreesClassifier\n",
    "from sklearn.linear_model import LogisticRegression"
   ]
  },
  {
   "cell_type": "code",
   "execution_count": 92,
   "metadata": {},
   "outputs": [],
   "source": [
    "import pandas as pd\n",
    "import numpy as np\n",
    "\n",
    "import time"
   ]
  },
  {
   "cell_type": "code",
   "execution_count": 83,
   "metadata": {},
   "outputs": [],
   "source": [
    "mushroom = pd.read_csv('mushrooms.csv')\n",
    "mushroom.drop('veil-type', inplace=True, axis=1)"
   ]
  },
  {
   "cell_type": "code",
   "execution_count": 84,
   "metadata": {},
   "outputs": [],
   "source": [
    "X = pd.get_dummies(mushroom, prefix=list(mushroom))\n",
    "Y = X['class_p'].values\n",
    "X.drop('class_e', inplace=True, axis=1)\n",
    "X.drop('class_p', inplace=True, axis=1)\n",
    "X = X.values"
   ]
  },
  {
   "cell_type": "code",
   "execution_count": 85,
   "metadata": {},
   "outputs": [],
   "source": [
    "num = 20\n",
    "percent = .7\n",
    "num_of_steps = 5"
   ]
  },
  {
   "cell_type": "code",
   "execution_count": 94,
   "metadata": {},
   "outputs": [
    {
     "name": "stdout",
     "output_type": "stream",
     "text": [
      "univariate time elapsed: 0.00978183746338 \n"
     ]
    }
   ],
   "source": [
    "# univariate feature extraction\n",
    "start_time = time.time()\n",
    "test = SelectKBest(score_func=chi2, k=num)\n",
    "fit = test.fit(X, Y)\n",
    "np.set_printoptions(precision=3)\n",
    "X_univariate = fit.transform(X)\n",
    "X_univariate.shape\n",
    "print \"univariate time elapsed: {} \".format(time.time() - start_time)"
   ]
  },
  {
   "cell_type": "code",
   "execution_count": 98,
   "metadata": {},
   "outputs": [
    {
     "name": "stdout",
     "output_type": "stream",
     "text": [
      "low variance time elapsed: 0.0157301425934 \n"
     ]
    }
   ],
   "source": [
    "# low variance\n",
    "start_time = time.time()\n",
    "sel = VarianceThreshold(threshold=(percent * (1 - percent)))\n",
    "X_low_variance = sel.fit_transform(X)\n",
    "X_low_variance.shape\n",
    "print \"low variance time elapsed: {} \".format(time.time() - start_time)"
   ]
  },
  {
   "cell_type": "code",
   "execution_count": 97,
   "metadata": {},
   "outputs": [
    {
     "name": "stdout",
     "output_type": "stream",
     "text": [
      "tree based time elapsed: 0.0964570045471 \n"
     ]
    }
   ],
   "source": [
    "# tree based feature selection\n",
    "start_time = time.time()\n",
    "clf = ExtraTreesClassifier(max_features=num)\n",
    "clf.fit(X, Y)\n",
    "model = SelectFromModel(estimator=clf, prefit=True)\n",
    "X_tree = model.transform(X)\n",
    "X_tree.shape\n",
    "print \"tree based time elapsed: {} \".format(time.time() - start_time)"
   ]
  },
  {
   "cell_type": "code",
   "execution_count": 96,
   "metadata": {},
   "outputs": [
    {
     "name": "stdout",
     "output_type": "stream",
     "text": [
      "PCA time elapsed: 0.454056978226 \n"
     ]
    }
   ],
   "source": [
    "# PCA feature extraction\n",
    "start_time = time.time()\n",
    "pca = PCA(n_components=num)\n",
    "fit = pca.fit(X)\n",
    "# summarize components\n",
    "# print \"Explained Variance: %s\" % fit.explained_variance_ratio_\n",
    "X_PCA = fit.fit_transform(X, Y)\n",
    "X_PCA.shape\n",
    "print \"PCA time elapsed: {} \".format(time.time() - start_time)"
   ]
  },
  {
   "cell_type": "code",
   "execution_count": 95,
   "metadata": {},
   "outputs": [
    {
     "name": "stdout",
     "output_type": "stream",
     "text": [
      "RFE time elapsed: 1.82690286636 \n"
     ]
    }
   ],
   "source": [
    "# recursive feature elimination\n",
    "start_time = time.time()\n",
    "logreg = LogisticRegression()\n",
    "rfe = RFE(logreg, num, step=num_of_steps)\n",
    "fit = rfe.fit(X, Y)\n",
    "# print(\"Selected Features: %s\") % fit.support_\n",
    "# print(\"Feature Ranking: %s\") % fit.ranking_\n",
    "X_RFE = fit.fit_transform(X, Y)\n",
    "X_RFE.shape\n",
    "print \"RFE time elapsed: {} \".format(time.time() - start_time)"
   ]
  },
  {
   "cell_type": "code",
   "execution_count": null,
   "metadata": {},
   "outputs": [],
   "source": [
    "print \"\""
   ]
  }
 ],
 "metadata": {
  "kernelspec": {
   "display_name": "ai2",
   "language": "python",
   "name": "ai2"
  },
  "language_info": {
   "codemirror_mode": {
    "name": "ipython",
    "version": 2
   },
   "file_extension": ".py",
   "mimetype": "text/x-python",
   "name": "python",
   "nbconvert_exporter": "python",
   "pygments_lexer": "ipython2",
   "version": "2.7.10"
  }
 },
 "nbformat": 4,
 "nbformat_minor": 2
}
